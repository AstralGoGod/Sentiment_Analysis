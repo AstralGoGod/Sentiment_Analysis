{
 "cells": [
  {
   "cell_type": "code",
   "execution_count": 2,
   "id": "5eed3f3f",
   "metadata": {},
   "outputs": [],
   "source": [
    "import pandas as pd\n",
    "import numpy as np\n",
    "\n",
    "import re\n",
    "from bs4 import BeautifulSoup\n",
    "from nltk.corpus import stopwords\n",
    "from nltk.corpus import stopwords\n",
    "import texthero as hero\n",
    "from texthero import preprocessing\n",
    "from sklearn.feature_extraction.text import CountVectorizer\n",
    "from sklearn.model_selection import train_test_split\n",
    "from sklearn.naive_bayes import MultinomialNB"
   ]
  },
  {
   "cell_type": "code",
   "execution_count": 3,
   "id": "80c826d8",
   "metadata": {},
   "outputs": [],
   "source": [
    "df_original = pd.read_csv('IMDB Dataset.csv') #This dataframe will not be changed to ensure data integrity.\n",
    "df = df_original.copy()\n",
    "\n",
    "df['num_label'] = df['sentiment'].map({'negative':0, 'positive':1})\n",
    "y = df.iloc[:,-1]"
   ]
  },
  {
   "cell_type": "code",
   "execution_count": 4,
   "id": "d71f4700",
   "metadata": {},
   "outputs": [
    {
     "data": {
      "text/html": [
       "<div>\n",
       "<style scoped>\n",
       "    .dataframe tbody tr th:only-of-type {\n",
       "        vertical-align: middle;\n",
       "    }\n",
       "\n",
       "    .dataframe tbody tr th {\n",
       "        vertical-align: top;\n",
       "    }\n",
       "\n",
       "    .dataframe thead th {\n",
       "        text-align: right;\n",
       "    }\n",
       "</style>\n",
       "<table border=\"1\" class=\"dataframe\">\n",
       "  <thead>\n",
       "    <tr style=\"text-align: right;\">\n",
       "      <th></th>\n",
       "      <th>review</th>\n",
       "      <th>sentiment</th>\n",
       "      <th>num_label</th>\n",
       "    </tr>\n",
       "  </thead>\n",
       "  <tbody>\n",
       "    <tr>\n",
       "      <th>0</th>\n",
       "      <td>One of the other reviewers has mentioned that ...</td>\n",
       "      <td>positive</td>\n",
       "      <td>1</td>\n",
       "    </tr>\n",
       "    <tr>\n",
       "      <th>1</th>\n",
       "      <td>A wonderful little production. &lt;br /&gt;&lt;br /&gt;The...</td>\n",
       "      <td>positive</td>\n",
       "      <td>1</td>\n",
       "    </tr>\n",
       "    <tr>\n",
       "      <th>2</th>\n",
       "      <td>I thought this was a wonderful way to spend ti...</td>\n",
       "      <td>positive</td>\n",
       "      <td>1</td>\n",
       "    </tr>\n",
       "    <tr>\n",
       "      <th>3</th>\n",
       "      <td>Basically there's a family where a little boy ...</td>\n",
       "      <td>negative</td>\n",
       "      <td>0</td>\n",
       "    </tr>\n",
       "    <tr>\n",
       "      <th>4</th>\n",
       "      <td>Petter Mattei's \"Love in the Time of Money\" is...</td>\n",
       "      <td>positive</td>\n",
       "      <td>1</td>\n",
       "    </tr>\n",
       "  </tbody>\n",
       "</table>\n",
       "</div>"
      ],
      "text/plain": [
       "                                              review sentiment  num_label\n",
       "0  One of the other reviewers has mentioned that ...  positive          1\n",
       "1  A wonderful little production. <br /><br />The...  positive          1\n",
       "2  I thought this was a wonderful way to spend ti...  positive          1\n",
       "3  Basically there's a family where a little boy ...  negative          0\n",
       "4  Petter Mattei's \"Love in the Time of Money\" is...  positive          1"
      ]
     },
     "execution_count": 4,
     "metadata": {},
     "output_type": "execute_result"
    }
   ],
   "source": [
    "df.head()"
   ]
  },
  {
   "cell_type": "code",
   "execution_count": 5,
   "id": "376fd0ab",
   "metadata": {},
   "outputs": [],
   "source": [
    "# Adding a 'Word Count' column via list comprehension.\n",
    "# This column will need updating after each round of pruning.\n",
    "\n",
    "df['Word Count'] = [len(x.split()) for x in df['review'].tolist()]"
   ]
  },
  {
   "cell_type": "code",
   "execution_count": 6,
   "id": "2001c296",
   "metadata": {},
   "outputs": [
    {
     "data": {
      "text/html": [
       "<div>\n",
       "<style scoped>\n",
       "    .dataframe tbody tr th:only-of-type {\n",
       "        vertical-align: middle;\n",
       "    }\n",
       "\n",
       "    .dataframe tbody tr th {\n",
       "        vertical-align: top;\n",
       "    }\n",
       "\n",
       "    .dataframe thead th {\n",
       "        text-align: right;\n",
       "    }\n",
       "</style>\n",
       "<table border=\"1\" class=\"dataframe\">\n",
       "  <thead>\n",
       "    <tr style=\"text-align: right;\">\n",
       "      <th></th>\n",
       "      <th>review</th>\n",
       "      <th>sentiment</th>\n",
       "      <th>num_label</th>\n",
       "      <th>Word Count</th>\n",
       "    </tr>\n",
       "  </thead>\n",
       "  <tbody>\n",
       "    <tr>\n",
       "      <th>0</th>\n",
       "      <td>One of the other reviewers has mentioned that ...</td>\n",
       "      <td>positive</td>\n",
       "      <td>1</td>\n",
       "      <td>307</td>\n",
       "    </tr>\n",
       "    <tr>\n",
       "      <th>1</th>\n",
       "      <td>A wonderful little production. &lt;br /&gt;&lt;br /&gt;The...</td>\n",
       "      <td>positive</td>\n",
       "      <td>1</td>\n",
       "      <td>162</td>\n",
       "    </tr>\n",
       "    <tr>\n",
       "      <th>2</th>\n",
       "      <td>I thought this was a wonderful way to spend ti...</td>\n",
       "      <td>positive</td>\n",
       "      <td>1</td>\n",
       "      <td>166</td>\n",
       "    </tr>\n",
       "    <tr>\n",
       "      <th>3</th>\n",
       "      <td>Basically there's a family where a little boy ...</td>\n",
       "      <td>negative</td>\n",
       "      <td>0</td>\n",
       "      <td>138</td>\n",
       "    </tr>\n",
       "    <tr>\n",
       "      <th>4</th>\n",
       "      <td>Petter Mattei's \"Love in the Time of Money\" is...</td>\n",
       "      <td>positive</td>\n",
       "      <td>1</td>\n",
       "      <td>230</td>\n",
       "    </tr>\n",
       "  </tbody>\n",
       "</table>\n",
       "</div>"
      ],
      "text/plain": [
       "                                              review sentiment  num_label  \\\n",
       "0  One of the other reviewers has mentioned that ...  positive          1   \n",
       "1  A wonderful little production. <br /><br />The...  positive          1   \n",
       "2  I thought this was a wonderful way to spend ti...  positive          1   \n",
       "3  Basically there's a family where a little boy ...  negative          0   \n",
       "4  Petter Mattei's \"Love in the Time of Money\" is...  positive          1   \n",
       "\n",
       "   Word Count  \n",
       "0         307  \n",
       "1         162  \n",
       "2         166  \n",
       "3         138  \n",
       "4         230  "
      ]
     },
     "execution_count": 6,
     "metadata": {},
     "output_type": "execute_result"
    }
   ],
   "source": [
    "df.head()"
   ]
  },
  {
   "cell_type": "code",
   "execution_count": 7,
   "id": "493d1612",
   "metadata": {},
   "outputs": [
    {
     "name": "stdout",
     "output_type": "stream",
     "text": [
      "Average review length = 231.16\n"
     ]
    }
   ],
   "source": [
    "print(\"Average review length = %.2f\" % df['Word Count'].mean())"
   ]
  },
  {
   "cell_type": "code",
   "execution_count": 8,
   "id": "ae2091b7",
   "metadata": {},
   "outputs": [],
   "source": [
    "# Helper method that re-calculates the Word Count column, prints first 5 samples, and average word count/sample\n",
    "\n",
    "def display_dataframe():\n",
    "    df['Word Count'] = [len(x.split()) for x in df['review'].tolist()]\n",
    "    print(df.head())\n",
    "    print(\"\\nAverage review length = %.2f\" % df['Word Count'].mean())"
   ]
  },
  {
   "cell_type": "code",
   "execution_count": 9,
   "id": "b9610682",
   "metadata": {},
   "outputs": [],
   "source": [
    "# Bringing all text to lowercase.\n",
    "df['review'] = df['review'].str.lower()"
   ]
  },
  {
   "cell_type": "code",
   "execution_count": 10,
   "id": "87c2a58b",
   "metadata": {},
   "outputs": [
    {
     "name": "stdout",
     "output_type": "stream",
     "text": [
      "                                              review sentiment  num_label  \\\n",
      "0  one of the other reviewers has mentioned that ...  positive          1   \n",
      "1  a wonderful little production. <br /><br />the...  positive          1   \n",
      "2  i thought this was a wonderful way to spend ti...  positive          1   \n",
      "3  basically there's a family where a little boy ...  negative          0   \n",
      "4  petter mattei's \"love in the time of money\" is...  positive          1   \n",
      "\n",
      "   Word Count  \n",
      "0         307  \n",
      "1         162  \n",
      "2         166  \n",
      "3         138  \n",
      "4         230  \n",
      "\n",
      "Average review length = 231.16\n"
     ]
    }
   ],
   "source": [
    "display_dataframe()"
   ]
  },
  {
   "cell_type": "code",
   "execution_count": 11,
   "id": "716a8838",
   "metadata": {},
   "outputs": [],
   "source": [
    "# Remove HTML tags.\n",
    "\n",
    "def remove_html(text):\n",
    "    '''Good but slow, needs rewriting'''\n",
    "    return BeautifulSoup(text, \"lxml\").text"
   ]
  },
  {
   "cell_type": "code",
   "execution_count": 12,
   "id": "0286e30f",
   "metadata": {},
   "outputs": [],
   "source": [
    "# Remove all special characters.\n",
    "\n",
    "def remove_noise(text):\n",
    "    return re.sub('[^A-Za-z0-9\\s]+', '', text)"
   ]
  },
  {
   "cell_type": "code",
   "execution_count": 13,
   "id": "91e3a10d",
   "metadata": {},
   "outputs": [],
   "source": [
    "df['review'] = df['review'].apply(remove_html)\n",
    "df['review'] = df['review'].apply(remove_noise)"
   ]
  },
  {
   "cell_type": "code",
   "execution_count": 14,
   "id": "a37d853d",
   "metadata": {},
   "outputs": [
    {
     "name": "stdout",
     "output_type": "stream",
     "text": [
      "                                              review sentiment  num_label  \\\n",
      "0  one of the other reviewers has mentioned that ...  positive          1   \n",
      "1  a wonderful little production the filming tech...  positive          1   \n",
      "2  i thought this was a wonderful way to spend ti...  positive          1   \n",
      "3  basically theres a family where a little boy j...  negative          0   \n",
      "4  petter matteis love in the time of money is a ...  positive          1   \n",
      "\n",
      "   Word Count  \n",
      "0         301  \n",
      "1         156  \n",
      "2         162  \n",
      "3         129  \n",
      "4         222  \n",
      "\n",
      "Average review length = 226.20\n"
     ]
    }
   ],
   "source": [
    "display_dataframe()"
   ]
  },
  {
   "cell_type": "code",
   "execution_count": 15,
   "id": "100366be",
   "metadata": {},
   "outputs": [],
   "source": [
    "stop = stopwords.words('english')\n",
    "df['review'] = df['review'].apply(lambda x: ' '.join([word for word in x.split() if word not in (stop)]))"
   ]
  },
  {
   "cell_type": "code",
   "execution_count": 16,
   "id": "e74dd9eb",
   "metadata": {},
   "outputs": [
    {
     "name": "stdout",
     "output_type": "stream",
     "text": [
      "                                              review sentiment  num_label  \\\n",
      "0  one reviewers mentioned watching 1 oz episode ...  positive          1   \n",
      "1  wonderful little production filming technique ...  positive          1   \n",
      "2  thought wonderful way spend time hot summer we...  positive          1   \n",
      "3  basically theres family little boy jake thinks...  negative          0   \n",
      "4  petter matteis love time money visually stunni...  positive          1   \n",
      "\n",
      "   Word Count  \n",
      "0         168  \n",
      "1          84  \n",
      "2          86  \n",
      "3          67  \n",
      "4         125  \n",
      "\n",
      "Average review length = 119.79\n"
     ]
    }
   ],
   "source": [
    "display_dataframe()"
   ]
  },
  {
   "cell_type": "code",
   "execution_count": 17,
   "id": "08514041",
   "metadata": {},
   "outputs": [
    {
     "data": {
      "text/plain": [
       "negative    0.5\n",
       "positive    0.5\n",
       "Name: sentiment, dtype: float64"
      ]
     },
     "execution_count": 17,
     "metadata": {},
     "output_type": "execute_result"
    }
   ],
   "source": [
    "df['sentiment'].value_counts(normalize=True)"
   ]
  },
  {
   "cell_type": "code",
   "execution_count": 18,
   "id": "1ca10dff",
   "metadata": {},
   "outputs": [],
   "source": [
    "count_vec = CountVectorizer(decode_error = 'ignore')\n",
    "x = count_vec.fit_transform(df['review'])"
   ]
  },
  {
   "cell_type": "code",
   "execution_count": 19,
   "id": "2fe943dd",
   "metadata": {},
   "outputs": [],
   "source": [
    "xtrain, xtest, ytrain, ytest = train_test_split(x,y, test_size = 0.3)"
   ]
  },
  {
   "cell_type": "code",
   "execution_count": 20,
   "id": "b1ea3b31",
   "metadata": {},
   "outputs": [
    {
     "data": {
      "text/plain": [
       "MultinomialNB(alpha=1)"
      ]
     },
     "execution_count": 20,
     "metadata": {},
     "output_type": "execute_result"
    }
   ],
   "source": [
    "clf = MultinomialNB(alpha = 1)\n",
    "clf.fit(xtrain,ytrain)"
   ]
  },
  {
   "cell_type": "code",
   "execution_count": 21,
   "id": "437f25b0",
   "metadata": {},
   "outputs": [
    {
     "name": "stdout",
     "output_type": "stream",
     "text": [
      "Training Score: 0.9245142857142857\n",
      "Testing Score: 0.8583333333333333\n"
     ]
    }
   ],
   "source": [
    "print(\"Training Score:\", clf.score(xtrain,ytrain))\n",
    "print(\"Testing Score:\", clf.score(xtest,ytest))"
   ]
  },
  {
   "cell_type": "code",
   "execution_count": 22,
   "id": "4707e2c9",
   "metadata": {},
   "outputs": [],
   "source": [
    "df['prediction'] = clf.predict(x)"
   ]
  },
  {
   "cell_type": "code",
   "execution_count": 23,
   "id": "709ed85e",
   "metadata": {},
   "outputs": [],
   "source": [
    "sneaky_spam = df[(df['prediction'] == 0) & (df['num_label'] == 1)]\n",
    "not_actually_spam = df[(df['prediction'] == 1) & (df['num_label'] == 0)]"
   ]
  },
  {
   "cell_type": "code",
   "execution_count": 24,
   "id": "780cfb85",
   "metadata": {},
   "outputs": [
    {
     "data": {
      "text/html": [
       "<div>\n",
       "<style scoped>\n",
       "    .dataframe tbody tr th:only-of-type {\n",
       "        vertical-align: middle;\n",
       "    }\n",
       "\n",
       "    .dataframe tbody tr th {\n",
       "        vertical-align: top;\n",
       "    }\n",
       "\n",
       "    .dataframe thead th {\n",
       "        text-align: right;\n",
       "    }\n",
       "</style>\n",
       "<table border=\"1\" class=\"dataframe\">\n",
       "  <thead>\n",
       "    <tr style=\"text-align: right;\">\n",
       "      <th>Predicted</th>\n",
       "      <th>0</th>\n",
       "      <th>1</th>\n",
       "    </tr>\n",
       "    <tr>\n",
       "      <th>Actual</th>\n",
       "      <th></th>\n",
       "      <th></th>\n",
       "    </tr>\n",
       "  </thead>\n",
       "  <tbody>\n",
       "    <tr>\n",
       "      <th>0</th>\n",
       "      <td>23102</td>\n",
       "      <td>1898</td>\n",
       "    </tr>\n",
       "    <tr>\n",
       "      <th>1</th>\n",
       "      <td>2869</td>\n",
       "      <td>22131</td>\n",
       "    </tr>\n",
       "  </tbody>\n",
       "</table>\n",
       "</div>"
      ],
      "text/plain": [
       "Predicted      0      1\n",
       "Actual                 \n",
       "0          23102   1898\n",
       "1           2869  22131"
      ]
     },
     "execution_count": 24,
     "metadata": {},
     "output_type": "execute_result"
    }
   ],
   "source": [
    "confusion_matrix = pd.crosstab(df['num_label'], df['prediction'], rownames=['Actual'], colnames=['Predicted'])\n",
    "confusion_matrix"
   ]
  },
  {
   "cell_type": "code",
   "execution_count": 25,
   "id": "5dda5cae",
   "metadata": {},
   "outputs": [
    {
     "data": {
      "text/plain": [
       "2869"
      ]
     },
     "execution_count": 25,
     "metadata": {},
     "output_type": "execute_result"
    }
   ],
   "source": [
    "# False Negatives\n",
    "len(sneaky_spam)"
   ]
  },
  {
   "cell_type": "code",
   "execution_count": 26,
   "id": "caf4fce0",
   "metadata": {
    "scrolled": true
   },
   "outputs": [
    {
     "data": {
      "text/plain": [
       "1898"
      ]
     },
     "execution_count": 26,
     "metadata": {},
     "output_type": "execute_result"
    }
   ],
   "source": [
    "# False Positives\n",
    "len(not_actually_spam)"
   ]
  },
  {
   "cell_type": "code",
   "execution_count": 30,
   "id": "c679ecc8",
   "metadata": {},
   "outputs": [],
   "source": [
    "import pickle \n",
    "pikle_name = \"IMBD Naive Bayes.pkl\"\n",
    "with open(pikle_name, 'wb') as file:\n",
    "    pickle.dump(clf, file)"
   ]
  },
  {
   "cell_type": "code",
   "execution_count": null,
   "id": "0baf2480",
   "metadata": {},
   "outputs": [],
   "source": [
    "# Load\n",
    "with open(pikle_name, 'rb') as file:\n",
    "    pickle_model = load(file)"
   ]
  },
  {
   "cell_type": "code",
   "execution_count": null,
   "id": "272b7f0f",
   "metadata": {},
   "outputs": [],
   "source": []
  }
 ],
 "metadata": {
  "kernelspec": {
   "display_name": "Python 3",
   "language": "python",
   "name": "python3"
  },
  "language_info": {
   "codemirror_mode": {
    "name": "ipython",
    "version": 3
   },
   "file_extension": ".py",
   "mimetype": "text/x-python",
   "name": "python",
   "nbconvert_exporter": "python",
   "pygments_lexer": "ipython3",
   "version": "3.9.2"
  }
 },
 "nbformat": 4,
 "nbformat_minor": 5
}
