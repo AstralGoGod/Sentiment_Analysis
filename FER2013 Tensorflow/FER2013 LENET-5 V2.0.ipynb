{
 "cells": [
  {
   "cell_type": "code",
   "execution_count": 1,
   "id": "caf3c365",
   "metadata": {},
   "outputs": [
    {
     "name": "stdout",
     "output_type": "stream",
     "text": [
      "['.DS_Store', 'test', 'train']\n"
     ]
    }
   ],
   "source": [
    "import os\n",
    "print(os.listdir('Fer2013EasyData'))"
   ]
  },
  {
   "cell_type": "code",
   "execution_count": 2,
   "id": "55616035",
   "metadata": {},
   "outputs": [],
   "source": [
    "train_path = 'Fer2013EasyData/train'\n",
    "test_path =  'Fer2013EasyData/test'"
   ]
  },
  {
   "cell_type": "code",
   "execution_count": 3,
   "id": "fb65c9e4",
   "metadata": {},
   "outputs": [],
   "source": [
    "import matplotlib.pyplot as plt\n",
    "def plot_images(img_dir, top=10):\n",
    "    all_img_dirs = os.listdir(img_dir)\n",
    "    img_files = [os.path.join(img_dir, file) for file in all_img_dirs][:5]\n",
    "  \n",
    "    plt.figure(figsize=(10, 10))\n",
    "  \n",
    "    for idx, img_path in enumerate(img_files):\n",
    "        plt.subplot(5, 5, idx+1)\n",
    "    \n",
    "        img = plt.imread(img_path)\n",
    "        plt.tight_layout()         \n",
    "        plt.imshow(img, cmap='gray') "
   ]
  },
  {
   "cell_type": "code",
   "execution_count": 4,
   "id": "10d72e27",
   "metadata": {},
   "outputs": [],
   "source": [
    "from tensorflow.keras.preprocessing.image import ImageDataGenerator \n",
    "from tensorflow.keras.utils import to_categorical, plot_model\n",
    "from tensorflow.keras import models, layers, regularizers"
   ]
  },
  {
   "cell_type": "code",
   "execution_count": 5,
   "id": "c28073c9",
   "metadata": {},
   "outputs": [
    {
     "name": "stdout",
     "output_type": "stream",
     "text": [
      "['.DS_Store', 'angry', 'disgust', 'fear', 'happy', 'neutral', 'sad', 'surprise']\n"
     ]
    }
   ],
   "source": [
    "emotion_labels = sorted(os.listdir(train_path))\n",
    "print(emotion_labels)"
   ]
  },
  {
   "cell_type": "code",
   "execution_count": 6,
   "id": "d9ebc337",
   "metadata": {},
   "outputs": [
    {
     "name": "stdout",
     "output_type": "stream",
     "text": [
      "Found 28709 images belonging to 7 classes.\n",
      "Found 7178 images belonging to 7 classes.\n"
     ]
    }
   ],
   "source": [
    "batch_size = 64\n",
    "target_size = (48,48)\n",
    "\n",
    "train_datagen = ImageDataGenerator(rescale=1./255)\n",
    "test_datagen   = ImageDataGenerator(rescale=1./255)\n",
    "\n",
    "train_generator = train_datagen.flow_from_directory(\n",
    "        train_path,\n",
    "        target_size=target_size,\n",
    "        batch_size=batch_size,\n",
    "        color_mode=\"grayscale\",\n",
    "        class_mode='categorical',\n",
    "        shuffle=True)\n",
    "\n",
    "test_generator = test_datagen.flow_from_directory(\n",
    "        test_path,\n",
    "        target_size=target_size,\n",
    "        batch_size=batch_size,\n",
    "        color_mode=\"grayscale\",\n",
    "        class_mode='categorical')"
   ]
  },
  {
   "cell_type": "code",
   "execution_count": 7,
   "id": "6dddcea5",
   "metadata": {},
   "outputs": [],
   "source": [
    "input_shape = (48,48,1) # img_rows, img_colums, color_channels\n",
    "num_classes = 7"
   ]
  },
  {
   "cell_type": "code",
   "execution_count": 8,
   "id": "0c139e79",
   "metadata": {},
   "outputs": [
    {
     "name": "stdout",
     "output_type": "stream",
     "text": [
      "Model: \"sequential\"\n",
      "_________________________________________________________________\n",
      " Layer (type)                Output Shape              Param #   \n",
      "=================================================================\n",
      " conv2d (Conv2D)             (None, 48, 48, 32)        832       \n",
      "                                                                 \n",
      " conv2d_1 (Conv2D)           (None, 48, 48, 32)        9248      \n",
      "                                                                 \n",
      " max_pooling2d (MaxPooling2D  (None, 24, 24, 32)       0         \n",
      " )                                                               \n",
      "                                                                 \n",
      " conv2d_2 (Conv2D)           (None, 24, 24, 64)        18496     \n",
      "                                                                 \n",
      " conv2d_3 (Conv2D)           (None, 24, 24, 64)        36928     \n",
      "                                                                 \n",
      " max_pooling2d_1 (MaxPooling  (None, 12, 12, 64)       0         \n",
      " 2D)                                                             \n",
      "                                                                 \n",
      " conv2d_4 (Conv2D)           (None, 12, 12, 128)       73856     \n",
      "                                                                 \n",
      " conv2d_5 (Conv2D)           (None, 12, 12, 128)       147584    \n",
      "                                                                 \n",
      " max_pooling2d_2 (MaxPooling  (None, 6, 6, 128)        0         \n",
      " 2D)                                                             \n",
      "                                                                 \n",
      " flatten (Flatten)           (None, 4608)              0         \n",
      "                                                                 \n",
      " dense (Dense)               (None, 512)               2359808   \n",
      "                                                                 \n",
      " dense_1 (Dense)             (None, 128)               65664     \n",
      "                                                                 \n",
      " dense_2 (Dense)             (None, 32)                4128      \n",
      "                                                                 \n",
      " dense_3 (Dense)             (None, 7)                 231       \n",
      "                                                                 \n",
      "=================================================================\n",
      "Total params: 2,716,775\n",
      "Trainable params: 2,716,775\n",
      "Non-trainable params: 0\n",
      "_________________________________________________________________\n"
     ]
    }
   ],
   "source": [
    "# Build Model\n",
    "model = models.Sequential()\n",
    "\n",
    "model.add(layers.Conv2D(32, kernel_size=(5, 5), activation='relu', padding='same', input_shape=input_shape)) #, data_format='channels_last', kernel_regularizer=regularizers.l2(0.01)))\n",
    "model.add(layers.Conv2D(32, kernel_size=(3, 3), activation='relu', padding='same'))\n",
    "model.add(layers.MaxPooling2D(pool_size=(2, 2), strides=(2, 2)))\n",
    "\n",
    "model.add(layers.Conv2D(64, kernel_size=(3, 3), activation='relu', padding='same'))\n",
    "model.add(layers.Conv2D(64, kernel_size=(3, 3), activation='relu', padding='same'))\n",
    "model.add(layers.MaxPooling2D(pool_size=(2, 2), strides=(2, 2)))\n",
    "\n",
    "model.add(layers.Conv2D(128, kernel_size=(3, 3), activation='relu', padding='same'))\n",
    "model.add(layers.Conv2D(128, kernel_size=(3, 3), activation='relu', padding='same'))\n",
    "model.add(layers.MaxPooling2D(pool_size=(2, 2), strides=(2, 2)))\n",
    "\n",
    "model.add(layers.Flatten())\n",
    "\n",
    "model.add(layers.Dense(512, activation='relu'))\n",
    "model.add(layers.Dense(128, activation='relu'))\n",
    "model.add(layers.Dense(32, activation='relu'))\n",
    "\n",
    "model.add(layers.Dense(num_classes, activation='softmax'))\n",
    "\n",
    "model.summary()"
   ]
  },
  {
   "cell_type": "code",
   "execution_count": 9,
   "id": "bc30767a",
   "metadata": {},
   "outputs": [],
   "source": [
    "# Compile Model\n",
    "model.compile(loss='categorical_crossentropy', optimizer='adam', metrics=['accuracy']) "
   ]
  },
  {
   "cell_type": "code",
   "execution_count": 10,
   "id": "9654da80",
   "metadata": {},
   "outputs": [],
   "source": [
    "num_epochs = 50\n",
    "STEP_SIZE_TRAIN = train_generator.n//train_generator.batch_size\n",
    "STEP_SIZE_TEST   = test_generator.n//test_generator.batch_size"
   ]
  },
  {
   "cell_type": "code",
   "execution_count": 11,
   "id": "3e6da665",
   "metadata": {},
   "outputs": [
    {
     "name": "stdout",
     "output_type": "stream",
     "text": [
      "Epoch 1/50\n",
      "448/448 [==============================] - 322s 717ms/step - loss: 1.7988 - accuracy: 0.2601 - val_loss: 1.6710 - val_accuracy: 0.3294\n",
      "Epoch 2/50\n",
      "448/448 [==============================] - 283s 631ms/step - loss: 1.5388 - accuracy: 0.3999 - val_loss: 1.4190 - val_accuracy: 0.4521\n",
      "Epoch 3/50\n",
      "448/448 [==============================] - 217s 483ms/step - loss: 1.3514 - accuracy: 0.4823 - val_loss: 1.3326 - val_accuracy: 0.4869\n",
      "Epoch 4/50\n",
      "448/448 [==============================] - 217s 485ms/step - loss: 1.2134 - accuracy: 0.5399 - val_loss: 1.2522 - val_accuracy: 0.5206\n",
      "Epoch 5/50\n",
      "448/448 [==============================] - 223s 498ms/step - loss: 1.0807 - accuracy: 0.5955 - val_loss: 1.2087 - val_accuracy: 0.5480\n",
      "Epoch 6/50\n",
      "448/448 [==============================] - 216s 483ms/step - loss: 0.9412 - accuracy: 0.6475 - val_loss: 1.2153 - val_accuracy: 0.5572\n",
      "Epoch 7/50\n",
      "448/448 [==============================] - 216s 482ms/step - loss: 0.7731 - accuracy: 0.7167 - val_loss: 1.3222 - val_accuracy: 0.5416\n",
      "Epoch 8/50\n",
      "448/448 [==============================] - 208s 464ms/step - loss: 0.5964 - accuracy: 0.7830 - val_loss: 1.4791 - val_accuracy: 0.5431\n",
      "Epoch 9/50\n",
      "448/448 [==============================] - 210s 468ms/step - loss: 0.4338 - accuracy: 0.8441 - val_loss: 1.7767 - val_accuracy: 0.5492\n",
      "Epoch 10/50\n",
      "448/448 [==============================] - 216s 481ms/step - loss: 0.3271 - accuracy: 0.8847 - val_loss: 1.9153 - val_accuracy: 0.5508\n",
      "Epoch 11/50\n",
      "448/448 [==============================] - 210s 470ms/step - loss: 0.2339 - accuracy: 0.9181 - val_loss: 2.2829 - val_accuracy: 0.5598\n",
      "Epoch 12/50\n",
      "448/448 [==============================] - 276s 617ms/step - loss: 0.1889 - accuracy: 0.9361 - val_loss: 2.4465 - val_accuracy: 0.5441\n",
      "Epoch 13/50\n",
      "448/448 [==============================] - 265s 590ms/step - loss: 0.1701 - accuracy: 0.9427 - val_loss: 2.6896 - val_accuracy: 0.5569\n",
      "Epoch 14/50\n",
      "448/448 [==============================] - 280s 625ms/step - loss: 0.1399 - accuracy: 0.9533 - val_loss: 2.8142 - val_accuracy: 0.5485\n",
      "Epoch 15/50\n",
      "448/448 [==============================] - 274s 610ms/step - loss: 0.1177 - accuracy: 0.9609 - val_loss: 2.9898 - val_accuracy: 0.5502\n",
      "Epoch 16/50\n",
      "448/448 [==============================] - 289s 646ms/step - loss: 0.1062 - accuracy: 0.9664 - val_loss: 3.1103 - val_accuracy: 0.5518\n",
      "Epoch 17/50\n",
      "448/448 [==============================] - 237s 527ms/step - loss: 0.0986 - accuracy: 0.9681 - val_loss: 3.1157 - val_accuracy: 0.5558\n",
      "Epoch 18/50\n",
      "448/448 [==============================] - 209s 467ms/step - loss: 0.1037 - accuracy: 0.9667 - val_loss: 2.9085 - val_accuracy: 0.5610\n",
      "Epoch 19/50\n",
      "448/448 [==============================] - 195s 436ms/step - loss: 0.1004 - accuracy: 0.9680 - val_loss: 2.9812 - val_accuracy: 0.5543\n",
      "Epoch 20/50\n",
      "448/448 [==============================] - 197s 439ms/step - loss: 0.0720 - accuracy: 0.9766 - val_loss: 3.4932 - val_accuracy: 0.5566\n",
      "Epoch 21/50\n",
      "448/448 [==============================] - 196s 437ms/step - loss: 0.0801 - accuracy: 0.9750 - val_loss: 3.2203 - val_accuracy: 0.5536\n",
      "Epoch 22/50\n",
      "448/448 [==============================] - 198s 442ms/step - loss: 0.0787 - accuracy: 0.9745 - val_loss: 3.2106 - val_accuracy: 0.5453\n",
      "Epoch 23/50\n",
      "448/448 [==============================] - 207s 461ms/step - loss: 0.0852 - accuracy: 0.9727 - val_loss: 3.2941 - val_accuracy: 0.5525\n",
      "Epoch 24/50\n",
      "448/448 [==============================] - 202s 450ms/step - loss: 0.0710 - accuracy: 0.9766 - val_loss: 3.3386 - val_accuracy: 0.5470\n",
      "Epoch 25/50\n",
      "448/448 [==============================] - 200s 447ms/step - loss: 0.0638 - accuracy: 0.9800 - val_loss: 3.5465 - val_accuracy: 0.5431\n",
      "Epoch 26/50\n",
      "448/448 [==============================] - 202s 451ms/step - loss: 0.0734 - accuracy: 0.9769 - val_loss: 3.3691 - val_accuracy: 0.5484\n",
      "Epoch 27/50\n",
      "448/448 [==============================] - 195s 434ms/step - loss: 0.0807 - accuracy: 0.9729 - val_loss: 3.2697 - val_accuracy: 0.5532\n",
      "Epoch 28/50\n",
      "448/448 [==============================] - 193s 430ms/step - loss: 0.0594 - accuracy: 0.9811 - val_loss: 3.7345 - val_accuracy: 0.5452\n",
      "Epoch 29/50\n",
      "448/448 [==============================] - 189s 422ms/step - loss: 0.0628 - accuracy: 0.9797 - val_loss: 3.3834 - val_accuracy: 0.5600\n",
      "Epoch 30/50\n",
      "448/448 [==============================] - 188s 420ms/step - loss: 0.0566 - accuracy: 0.9818 - val_loss: 3.5095 - val_accuracy: 0.5533\n",
      "Epoch 31/50\n",
      "448/448 [==============================] - 187s 417ms/step - loss: 0.0575 - accuracy: 0.9811 - val_loss: 3.4091 - val_accuracy: 0.5533\n",
      "Epoch 32/50\n",
      "448/448 [==============================] - 188s 419ms/step - loss: 0.0715 - accuracy: 0.9764 - val_loss: 3.4215 - val_accuracy: 0.5559\n",
      "Epoch 33/50\n",
      "448/448 [==============================] - 186s 416ms/step - loss: 0.0559 - accuracy: 0.9812 - val_loss: 3.3561 - val_accuracy: 0.5523\n",
      "Epoch 34/50\n",
      "448/448 [==============================] - 192s 429ms/step - loss: 0.0589 - accuracy: 0.9812 - val_loss: 3.4457 - val_accuracy: 0.5541\n",
      "Epoch 35/50\n",
      "448/448 [==============================] - 190s 424ms/step - loss: 0.0550 - accuracy: 0.9817 - val_loss: 3.4738 - val_accuracy: 0.5480\n",
      "Epoch 36/50\n",
      "448/448 [==============================] - 189s 422ms/step - loss: 0.0528 - accuracy: 0.9820 - val_loss: 3.8529 - val_accuracy: 0.5551\n",
      "Epoch 37/50\n",
      "448/448 [==============================] - 190s 423ms/step - loss: 0.0565 - accuracy: 0.9809 - val_loss: 3.4151 - val_accuracy: 0.5448\n",
      "Epoch 38/50\n",
      "448/448 [==============================] - 191s 426ms/step - loss: 0.0497 - accuracy: 0.9836 - val_loss: 3.4567 - val_accuracy: 0.5494\n",
      "Epoch 39/50\n",
      "448/448 [==============================] - 193s 430ms/step - loss: 0.0493 - accuracy: 0.9835 - val_loss: 3.5557 - val_accuracy: 0.5564\n",
      "Epoch 40/50\n",
      "448/448 [==============================] - 185s 414ms/step - loss: 0.0548 - accuracy: 0.9818 - val_loss: 3.5453 - val_accuracy: 0.5481\n",
      "Epoch 41/50\n",
      "448/448 [==============================] - 187s 418ms/step - loss: 0.0515 - accuracy: 0.9831 - val_loss: 3.7018 - val_accuracy: 0.5488\n",
      "Epoch 42/50\n",
      "448/448 [==============================] - 186s 415ms/step - loss: 0.0508 - accuracy: 0.9835 - val_loss: 3.6729 - val_accuracy: 0.5498\n",
      "Epoch 43/50\n",
      "448/448 [==============================] - 188s 419ms/step - loss: 0.0446 - accuracy: 0.9862 - val_loss: 3.8682 - val_accuracy: 0.5522\n",
      "Epoch 44/50\n",
      "448/448 [==============================] - 193s 430ms/step - loss: 0.0550 - accuracy: 0.9816 - val_loss: 3.3550 - val_accuracy: 0.5505\n",
      "Epoch 45/50\n",
      "448/448 [==============================] - 188s 420ms/step - loss: 0.0387 - accuracy: 0.9870 - val_loss: 3.6964 - val_accuracy: 0.5586\n",
      "Epoch 46/50\n",
      "448/448 [==============================] - 190s 424ms/step - loss: 0.0495 - accuracy: 0.9842 - val_loss: 3.7115 - val_accuracy: 0.5547\n",
      "Epoch 47/50\n",
      "448/448 [==============================] - 190s 424ms/step - loss: 0.0467 - accuracy: 0.9849 - val_loss: 3.7336 - val_accuracy: 0.5550\n",
      "Epoch 48/50\n",
      "448/448 [==============================] - 189s 422ms/step - loss: 0.0485 - accuracy: 0.9845 - val_loss: 3.5559 - val_accuracy: 0.5487\n",
      "Epoch 49/50\n",
      "448/448 [==============================] - 186s 415ms/step - loss: 0.0403 - accuracy: 0.9860 - val_loss: 3.5653 - val_accuracy: 0.5465\n",
      "Epoch 50/50\n",
      "448/448 [==============================] - 188s 419ms/step - loss: 0.0405 - accuracy: 0.9868 - val_loss: 3.7783 - val_accuracy: 0.5501\n"
     ]
    }
   ],
   "source": [
    "# Train Model\n",
    "history = model.fit(train_generator, steps_per_epoch=STEP_SIZE_TRAIN, epochs=num_epochs, verbose=1, validation_data=test_generator, validation_steps=STEP_SIZE_TEST)"
   ]
  },
  {
   "cell_type": "code",
   "execution_count": 12,
   "id": "055dd4d6",
   "metadata": {},
   "outputs": [],
   "source": [
    "# Save Model\n",
    "models.save_model(model, 'fer2013_cnn.h5') "
   ]
  },
  {
   "cell_type": "code",
   "execution_count": 13,
   "id": "f723a49f",
   "metadata": {},
   "outputs": [
    {
     "name": "stdout",
     "output_type": "stream",
     "text": [
      "112/112 [==============================] - 12s 105ms/step - loss: 3.7716 - accuracy: 0.5505\n",
      "Test loss:  3.7716212272644043\n",
      "Test accuracy:  0.5505022406578064\n"
     ]
    }
   ],
   "source": [
    "# Evaluate Model\n",
    "score = model.evaluate(test_generator, steps=STEP_SIZE_TEST) \n",
    "print('Test loss: ', score[0])\n",
    "print('Test accuracy: ', score[1])"
   ]
  },
  {
   "cell_type": "code",
   "execution_count": 14,
   "id": "1b04585a",
   "metadata": {},
   "outputs": [
    {
     "name": "stdout",
     "output_type": "stream",
     "text": [
      "dict_keys(['loss', 'accuracy', 'val_loss', 'val_accuracy'])\n"
     ]
    },
    {
     "data": {
      "image/png": "[encoded data removed]",
      "text/plain": [
       "<Figure size 432x288 with 1 Axes>"
      ]
     },
     "metadata": {
      "needs_background": "light"
     },
     "output_type": "display_data"
    },
    {
     "data": {
      "image/png": "[encoded data removed]",
      "text/plain": [
       "<Figure size 432x288 with 1 Axes>"
      ]
     },
     "metadata": {
      "needs_background": "light"
     },
     "output_type": "display_data"
    }
   ],
   "source": [
    "# Show Train History\n",
    "keys=history.history.keys()\n",
    "print(keys)\n",
    "\n",
    "def show_train_history(hisData,train,test): \n",
    "    plt.plot(hisData.history[train])\n",
    "    plt.plot(hisData.history[test])\n",
    "    plt.title('Training History')\n",
    "    plt.ylabel(train)\n",
    "    plt.xlabel('Epoch')\n",
    "    plt.legend(['train', 'test'], loc='upper left')\n",
    "    plt.show()\n",
    "\n",
    "show_train_history(history, 'loss', 'val_loss')\n",
    "show_train_history(history, 'accuracy', 'val_accuracy')"
   ]
  },
  {
   "cell_type": "code",
   "execution_count": 1,
   "id": "d776566d",
   "metadata": {},
   "outputs": [],
   "source": [
    "# Load Model\n",
    "from tensorflow import keras\n",
    "saved_model = keras.models.load_model('fer2013_cnn.h5')"
   ]
  },
  {
   "cell_type": "code",
   "execution_count": 2,
   "id": "67b5a1a4",
   "metadata": {},
   "outputs": [],
   "source": [
    "# Add this image to the same folder as usual\n",
    "from PIL import Image\n",
    "import numpy as np\n",
    "from skimage import transform\n",
    "def load(filename):\n",
    "    np_image = Image.open(filename) # Filename of Image\n",
    "    np_image = np.array(np_image).astype('int')/255\n",
    "    np_image = transform.resize(np_image, (48, 48, 1))\n",
    "    np_image = np.expand_dims(np_image, axis=0)\n",
    "    return np_image"
   ]
  },
  {
   "cell_type": "code",
   "execution_count": 4,
   "id": "a1772191",
   "metadata": {},
   "outputs": [],
   "source": [
    "image = load('external-content.duckduckgo.jpg') # Filename of Image"
   ]
  },
  {
   "cell_type": "code",
   "execution_count": 13,
   "id": "1ed1e937",
   "metadata": {},
   "outputs": [
    {
     "name": "stdout",
     "output_type": "stream",
     "text": [
      "This image is happy\n"
     ]
    }
   ],
   "source": [
    "emotion_labels_loaded = ['angry', 'disgust', 'fear', 'happy', 'neutral', 'sad', 'surprise']\n",
    "print('This image is ' + emotion_labels_loaded[np.argmax(saved_model.predict(image))])"
   ]
  }
 ],
 "metadata": {
  "kernelspec": {
   "display_name": "Python 3",
   "language": "python",
   "name": "python3"
  },
  "language_info": {
   "codemirror_mode": {
    "name": "ipython",
    "version": 3
   },
   "file_extension": ".py",
   "mimetype": "text/x-python",
   "name": "python",
   "nbconvert_exporter": "python",
   "pygments_lexer": "ipython3",
   "version": "3.9.2"
  }
 },
 "nbformat": 4,
 "nbformat_minor": 5
}
